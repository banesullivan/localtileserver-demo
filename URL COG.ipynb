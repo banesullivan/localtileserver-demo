{
 "cells": [
  {
   "cell_type": "markdown",
   "id": "71943589-f347-4990-b34d-7521d0d989c1",
   "metadata": {},
   "source": [
    "# localtileserver\n",
    "\n",
    "Learn more: https://localtileserver.banesullivan.com/\n",
    "\n",
    "## Cloud Optimized GeoTiff at URL\n",
    "\n",
    "Visualize a COG hosted online directly in the notebook"
   ]
  },
  {
   "cell_type": "code",
   "execution_count": null,
   "id": "b2564bbe-f215-4c50-8a71-634d44f4e63d",
   "metadata": {},
   "outputs": [],
   "source": [
    "from localtileserver import get_leaflet_tile_layer, TileClient\n",
    "from ipyleaflet import Map"
   ]
  },
  {
   "cell_type": "code",
   "execution_count": null,
   "id": "4b0de077-7513-4460-aa60-400e713b263b",
   "metadata": {},
   "outputs": [],
   "source": [
    "url = 'https://opendata.digitalglobe.com/events/california-fire-2020/pre-event/2018-02-16/pine-gulch-fire20/1030010076004E00.tif'\n",
    "\n",
    "tile_client = TileClient(url)"
   ]
  },
  {
   "cell_type": "code",
   "execution_count": null,
   "id": "9cb07e58-ce61-45fd-a6ee-060af097c04b",
   "metadata": {},
   "outputs": [],
   "source": [
    "# Create folium tile layer from that server\n",
    "t = get_leaflet_tile_layer(tile_client)\n",
    "\n",
    "m = Map(center=tile_client.center(), zoom=9)\n",
    "m.add_layer(t)\n",
    "m"
   ]
  },
  {
   "cell_type": "code",
   "execution_count": null,
   "id": "fecf0db7-c3f3-4fd9-ac09-2b597e6c6359",
   "metadata": {},
   "outputs": [],
   "source": [
    "tile_client.metadata()"
   ]
  },
  {
   "cell_type": "code",
   "execution_count": null,
   "id": "9b5675ad-04e2-4b87-ba0b-88925fd90455",
   "metadata": {},
   "outputs": [],
   "source": []
  }
 ],
 "metadata": {
  "kernelspec": {
   "display_name": "Python 3",
   "language": "python",
   "name": "python3"
  },
  "language_info": {
   "codemirror_mode": {
    "name": "ipython",
    "version": 3
   },
   "file_extension": ".py",
   "mimetype": "text/x-python",
   "name": "python",
   "nbconvert_exporter": "python",
   "pygments_lexer": "ipython3",
   "version": "3.7.3"
  }
 },
 "nbformat": 4,
 "nbformat_minor": 5
}
