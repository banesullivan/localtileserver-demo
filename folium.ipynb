{
 "cells": [
  {
   "cell_type": "code",
   "execution_count": null,
   "id": "b148674d-033e-48f3-8be2-1e66965c2159",
   "metadata": {},
   "outputs": [],
   "source": [
    "from localtileserver import get_folium_tile_layer\n",
    "from localtileserver import TileClient\n",
    "from folium import Map\n",
    "\n",
    "# First, create a tile server from local raster file\n",
    "tile_client = TileClient('bahamas_rgb.tif')\n",
    "\n",
    "# Create folium tile layer from that server\n",
    "t = get_folium_tile_layer(tile_client)\n",
    "\n",
    "m = Map(location=tile_client.center(), zoom_start=8)\n",
    "m.add_child(t)\n",
    "m"
   ]
  },
  {
   "cell_type": "code",
   "execution_count": null,
   "id": "cce3095c-b300-4936-90a5-f0ddd5729512",
   "metadata": {},
   "outputs": [],
   "source": []
  }
 ],
 "metadata": {
  "kernelspec": {
   "display_name": "Python 3",
   "language": "python",
   "name": "python3"
  },
  "language_info": {
   "codemirror_mode": {
    "name": "ipython",
    "version": 3
   },
   "file_extension": ".py",
   "mimetype": "text/x-python",
   "name": "python",
   "nbconvert_exporter": "python",
   "pygments_lexer": "ipython3",
   "version": "3.8.12"
  }
 },
 "nbformat": 4,
 "nbformat_minor": 5
}
