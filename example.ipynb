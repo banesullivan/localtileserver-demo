{
 "cells": [
  {
   "cell_type": "code",
   "execution_count": null,
   "id": "cd600bd5-052c-405c-9b8b-62c300c79041",
   "metadata": {},
   "outputs": [],
   "source": [
    "# Set host forwarding for MyBinder\n",
    "import os\n",
    "os.environ['LOCALTILESERVER_CLIENT_PREFIX'] = f\"{os.environ['JUPYTERHUB_BASE_URL']}/{os.environ['JUPYTERHUB_USER']}/proxy/{{port}}\""
   ]
  },
  {
   "cell_type": "code",
   "execution_count": null,
   "id": "24a35825-bc45-4793-abc1-8ea6e6ecc885",
   "metadata": {},
   "outputs": [],
   "source": [
    "from localtileserver import examples, get_leaflet_tile_layer\n",
    "from ipyleaflet import Map"
   ]
  },
  {
   "cell_type": "code",
   "execution_count": null,
   "id": "5ef04da6-0e0f-4339-b687-f3fa2d4740bf",
   "metadata": {},
   "outputs": [],
   "source": [
    "# First, create a tile server from local raster file\n",
    "tile_client = examples.get_bahamas()"
   ]
  },
  {
   "cell_type": "code",
   "execution_count": null,
   "id": "8c2587dd-4f3f-45c6-bbc1-cd7da30187fd",
   "metadata": {},
   "outputs": [],
   "source": [
    "# Create ipyleaflet tile layer from that server\n",
    "t = get_leaflet_tile_layer(tile_client)\n",
    "\n",
    "# Create ipyleaflet map, add layers, add controls, and display\n",
    "m = Map(center=tile_client.center(), zoom=8)\n",
    "m.add_layer(t)\n",
    "m"
   ]
  },
  {
   "cell_type": "code",
   "execution_count": null,
   "id": "28daebe4-d9ec-4952-a3b3-3dc1a22ab05e",
   "metadata": {},
   "outputs": [],
   "source": []
  }
 ],
 "metadata": {
  "kernelspec": {
   "display_name": "Python 3",
   "language": "python",
   "name": "python3"
  },
  "language_info": {
   "codemirror_mode": {
    "name": "ipython",
    "version": 3
   },
   "file_extension": ".py",
   "mimetype": "text/x-python",
   "name": "python",
   "nbconvert_exporter": "python",
   "pygments_lexer": "ipython3",
   "version": "3.8.12"
  }
 },
 "nbformat": 4,
 "nbformat_minor": 5
}
