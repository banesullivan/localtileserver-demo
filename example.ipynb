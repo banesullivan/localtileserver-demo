{
 "cells": [
  {
   "cell_type": "markdown",
   "id": "72a40a36-e481-49f3-966f-43fd78b42df1",
   "metadata": {},
   "source": [
    "# localtileserver\n",
    "\n",
    "Learn more: https://localtileserver.banesullivan.com/"
   ]
  },
  {
   "cell_type": "code",
   "execution_count": null,
   "id": "24a35825-bc45-4793-abc1-8ea6e6ecc885",
   "metadata": {},
   "outputs": [],
   "source": [
    "from localtileserver import examples, get_leaflet_tile_layer, TileClient\n",
    "from ipyleaflet import Map"
   ]
  },
  {
   "cell_type": "code",
   "execution_count": null,
   "id": "5ef04da6-0e0f-4339-b687-f3fa2d4740bf",
   "metadata": {},
   "outputs": [],
   "source": [
    "# First, create a tile server from local raster file\n",
    "bahamas = TileClient('bahamas_rgb.tif')"
   ]
  },
  {
   "cell_type": "code",
   "execution_count": null,
   "id": "8c2587dd-4f3f-45c6-bbc1-cd7da30187fd",
   "metadata": {},
   "outputs": [],
   "source": [
    "# Create ipyleaflet tile layer from that server\n",
    "bahamas_layer = get_leaflet_tile_layer(bahamas)\n",
    "\n",
    "# Create ipyleaflet map, add layers, add controls, and display\n",
    "m = Map(center=bahamas.center(), zoom=8)\n",
    "m.add_layer(bahamas_layer)\n",
    "m"
   ]
  },
  {
   "cell_type": "code",
   "execution_count": null,
   "id": "cdd20003-d811-4682-8612-5fab4e663aa6",
   "metadata": {},
   "outputs": [],
   "source": [
    "# Create a tile server from an raster URL\n",
    "oam = TileClient('https://oin-hotosm.s3.amazonaws.com/59c66c5223c8440011d7b1e4/0/7ad397c0-bba2-4f98-a08a-931ec3a6e943.tif')\n",
    "\n",
    "# Create ipyleaflet tile layer from that server\n",
    "oam_layer = get_leaflet_tile_layer(oam)\n",
    "\n",
    "# Create ipyleaflet map, add layers, add controls, and display\n",
    "m = Map(center=oam.center(), zoom=16)\n",
    "m.add_layer(oam_layer)\n",
    "m"
   ]
  },
  {
   "cell_type": "code",
   "execution_count": null,
   "id": "d3aa3ca3-7fcc-4da9-91ad-9c65e9ed26c5",
   "metadata": {},
   "outputs": [],
   "source": []
  }
 ],
 "metadata": {
  "kernelspec": {
   "display_name": "Python 3",
   "language": "python",
   "name": "python3"
  },
  "language_info": {
   "codemirror_mode": {
    "name": "ipython",
    "version": 3
   },
   "file_extension": ".py",
   "mimetype": "text/x-python",
   "name": "python",
   "nbconvert_exporter": "python",
   "pygments_lexer": "ipython3",
   "version": "3.8.12"
  }
 },
 "nbformat": 4,
 "nbformat_minor": 5
}
