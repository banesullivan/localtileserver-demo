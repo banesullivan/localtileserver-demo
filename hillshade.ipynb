{
 "cells": [
  {
   "cell_type": "markdown",
   "id": "1466ed6e-6834-410b-9d36-6c4eeb21bb12",
   "metadata": {},
   "source": [
    "# ⛰️ DEM Hillshade\n",
    "\n",
    "Generate hillshade map from Digital Elevation Model (DEM).\n",
    "\n",
    "A hillshade is a 3D representation of a surface where the darker and lighter\n",
    "colors represent the shadows and highlights that you would visually expect to\n",
    "see in a terrain model. Hillshades are often used as an underlay in a map, to\n",
    "make the data appear more 3-Dimensional.\n",
    "\n",
    "\n",
    "This example was adopted from [EarthPy](https://earthpy.readthedocs.io/en/latest/gallery_vignettes/plot_dem_hillshade.html)"
   ]
  },
  {
   "cell_type": "code",
   "execution_count": null,
   "id": "da018f2c-09cf-4385-869e-95268957e803",
   "metadata": {},
   "outputs": [],
   "source": [
    "from localtileserver import TileClient, get_leaflet_tile_layer\n",
    "from localtileserver import examples, helpers\n",
    "from ipyleaflet import Map, SplitMapControl\n",
    "import rasterio as rio"
   ]
  },
  {
   "cell_type": "code",
   "execution_count": null,
   "id": "01a05769-cf49-4de1-8396-4378eca7c11e",
   "metadata": {},
   "outputs": [],
   "source": [
    "# Example DEM dataset\n",
    "client = examples.get_co_elevation()\n",
    "\n",
    "tdem = get_leaflet_tile_layer(client, colormap='gist_earth')\n",
    "\n",
    "m = Map(center=client.center(), zoom=client.default_zoom)\n",
    "m.add_layer(tdem)\n",
    "m"
   ]
  },
  {
   "cell_type": "markdown",
   "id": "4a722f03-292e-470a-b0c5-0f0d3dbfb365",
   "metadata": {},
   "source": [
    "Read the DEM data as a NumPy array using rasterio:"
   ]
  },
  {
   "cell_type": "code",
   "execution_count": null,
   "id": "3fa7bab2-281f-4465-af7a-3d5af0e897d7",
   "metadata": {},
   "outputs": [],
   "source": [
    "dem = client.dataset.read()[0, :, :]\n",
    "dem.shape"
   ]
  },
  {
   "cell_type": "markdown",
   "id": "c8a28c31-e001-4699-90ba-f96ebb9702ad",
   "metadata": {},
   "source": [
    "Compute the hillshade of the DEM using the localtileserver.helpers.hillshade() function (adopted from EarthPy)."
   ]
  },
  {
   "cell_type": "code",
   "execution_count": null,
   "id": "23f2d97d-ce9e-4cbb-a2e0-03f909fdf571",
   "metadata": {},
   "outputs": [],
   "source": [
    "# help(helpers.hillshade)"
   ]
  },
  {
   "cell_type": "code",
   "execution_count": null,
   "id": "6759c5d0-d266-40a5-b3c0-da04adf0bdaa",
   "metadata": {},
   "outputs": [],
   "source": [
    "# Compute hillshade\n",
    "hs_arr = helpers.hillshade(dem)\n",
    "\n",
    "# Save hillshade arrays as new raster and open with rasterio\n",
    "hs = rio.open(helpers.save_new_raster(client, hs_arr))"
   ]
  },
  {
   "cell_type": "code",
   "execution_count": null,
   "id": "d039a43c-7bce-44da-84aa-958e75838c65",
   "metadata": {},
   "outputs": [],
   "source": [
    "# Make an ipyleaflet tile layer of the hillshade\n",
    "hst = get_leaflet_tile_layer(hs)\n",
    "\n",
    "m = Map(center=client.center(), zoom=client.default_zoom)\n",
    "control = SplitMapControl(left_layer=tdem, right_layer=hst)\n",
    "m.add_control(control)\n",
    "m"
   ]
  },
  {
   "cell_type": "markdown",
   "id": "5edb2628-422a-448a-b042-60429c4906fa",
   "metadata": {},
   "source": [
    "We can also overlay the hillshade on the original DEM so that it gives it a 3D effect:"
   ]
  },
  {
   "cell_type": "code",
   "execution_count": null,
   "id": "d3195e0f-2f85-4f37-98f8-e132405a97e4",
   "metadata": {},
   "outputs": [],
   "source": [
    "m = Map(center=client.center(), zoom=client.default_zoom)\n",
    "m.add_layer(tdem)\n",
    "m.add_layer(get_leaflet_tile_layer(hs, opacity=0.5))\n",
    "m"
   ]
  },
  {
   "cell_type": "code",
   "execution_count": null,
   "id": "35c956cf-7046-43af-93f6-3a3aca8dd8be",
   "metadata": {},
   "outputs": [],
   "source": []
  }
 ],
 "metadata": {
  "kernelspec": {
   "display_name": "Python 3 (ipykernel)",
   "language": "python",
   "name": "python3"
  },
  "language_info": {
   "codemirror_mode": {
    "name": "ipython",
    "version": 3
   },
   "file_extension": ".py",
   "mimetype": "text/x-python",
   "name": "python",
   "nbconvert_exporter": "python",
   "pygments_lexer": "ipython3",
   "version": "3.10.4"
  }
 },
 "nbformat": 4,
 "nbformat_minor": 5
}
